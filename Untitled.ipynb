{
 "cells": [
  {
   "cell_type": "code",
   "execution_count": 8,
   "metadata": {},
   "outputs": [],
   "source": [
    "with open(\"results.out\") as f:\n",
    "    lines = f.read().splitlines()\n",
    "old_accession = []\n",
    "new_accession = []\n",
    "identities = []\n",
    "escore = []\n",
    "for i in range(len(lines)):\n",
    "    if lines[i].startswith(\"Query= \"):\n",
    "        old_accession.append(lines[i].replace(\"Query= \",\"\"))\n",
    "        for j in range(i+1,len(lines)):\n",
    "            if lines[j].startswith(\"KWMTBOMO\"):\n",
    "                new_accession.append(lines[j])\n",
    "                break\n",
    "            \n",
    "\n",
    "with open(\"annotation.txt\",\"w\") as f:\n",
    "    for i in range(len(old_accession)):\n",
    "        f.write(old_accession[i] + \"\\t\" + new_accession[i])\n",
    "        f.write(\"\\n\")\n",
    "                \n",
    "        "
   ]
  }
 ],
 "metadata": {
  "kernelspec": {
   "display_name": "Python 3",
   "language": "python",
   "name": "python3"
  },
  "language_info": {
   "codemirror_mode": {
    "name": "ipython",
    "version": 3
   },
   "file_extension": ".py",
   "mimetype": "text/x-python",
   "name": "python",
   "nbconvert_exporter": "python",
   "pygments_lexer": "ipython3",
   "version": "3.6.8"
  }
 },
 "nbformat": 4,
 "nbformat_minor": 2
}
